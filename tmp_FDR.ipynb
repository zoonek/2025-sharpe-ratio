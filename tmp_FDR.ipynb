{
 "cells": [
  {
   "cell_type": "markdown",
   "id": "8242ddcf",
   "metadata": {},
   "source": [
    "# FDR"
   ]
  },
  {
   "cell_type": "code",
   "execution_count": null,
   "id": "a3b7bb6e",
   "metadata": {},
   "outputs": [],
   "source": [
    "import numpy as np\n",
    "from functions import *\n",
    "from tqdm.auto import tqdm\n",
    "import ray"
   ]
  },
  {
   "cell_type": "code",
   "execution_count": null,
   "id": "fc68d3e8",
   "metadata": {},
   "outputs": [],
   "source": [
    "ray.init()"
   ]
  },
  {
   "cell_type": "code",
   "execution_count": null,
   "id": "f3e55af5",
   "metadata": {},
   "outputs": [],
   "source": [
    "p_H1 = .1\n",
    "SR0 = 0\n",
    "SR1 = .5\n",
    "N = 1000\n",
    "T = 50\n",
    "name = 'severe'\n",
    "#name = 'gaussian'\n",
    "q = .25\n",
    "\n",
    "@ray.remote\n",
    "def f(T, name): \n",
    "    X0 = generate_non_gaussian_data(\n",
    "        nr = T,\n",
    "        nc = int( N * (1-p_H1) ), \n",
    "        SR0 = 0,\n",
    "        name = name,\n",
    "    )\n",
    "    X1 = generate_non_gaussian_data(\n",
    "        nr = T,\n",
    "        nc = int( N * p_H1 ),\n",
    "        SR0 = SR1,\n",
    "        name = name,\n",
    "    )\n",
    "    X = np.concatenate([X0, X1], axis=1)\n",
    "\n",
    "    gamma3 = scipy.stats.skew(X.flatten())                    # Skewness\n",
    "    gamma4 = scipy.stats.kurtosis(X.flatten(), fisher=False)  # Kurtosis (not excess kurtosis)\n",
    "        \n",
    "    alpha_, beta_, SR_c, q_hat = control_for_FDR( q, SR0 = SR0, SR1 = SR1, p_H1 = p_H1, T = T, gamma3 = gamma3, gamma4 = gamma4 )\n",
    "\n",
    "    SRs0 = X0.mean(axis=0) / X0.std(axis=0)\n",
    "    SRs1 = X1.mean(axis=0) / X1.std(axis=0)\n",
    "    FP = np.sum( SRs0 > SR_c )\n",
    "    TP = np.sum( SRs1 > SR_c )\n",
    "    return FP / (FP + TP)\n",
    "\n",
    "FDRs = {}\n",
    "for name in ['gaussian', 'severe']:\n",
    "    for T in [50,200,1000]:\n",
    "        FDRs[name, T] = ray.get([f.remote(T, name) for _ in range(1000)])"
   ]
  },
  {
   "cell_type": "code",
   "execution_count": null,
   "id": "d4fd8b2d",
   "metadata": {},
   "outputs": [],
   "source": [
    "fig, axs = plt.subplots(2, 3, figsize = (12, 6), layout = 'constrained')\n",
    "for i, name in enumerate(['gaussian', 'severe']):\n",
    "    for j, T in enumerate([50,200,1000]):\n",
    "        ax = axs[i, j]\n",
    "        ax.hist(\n",
    "            FDRs[name, T], \n",
    "            facecolor = 'lightblue',  # edgecolor = 'tab:blue', \n",
    "            density = True, \n",
    "            bins = 20,\n",
    "        )\n",
    "        ax.axvline( q, color = 'black', linestyle = '--' )\n",
    "        ax.set_xlabel('FDP = FP / (FP + TP)')\n",
    "        ax.set_title('FDP Distribution, q = 0.25\\n' f'{name} {T=}')\n",
    "        for side in ['left', 'right', 'top']:\n",
    "            ax.spines[side].set_visible(False)\n",
    "        ax.set_yticks([])\n",
    "        ax.set_xlim( 0, .5 )\n",
    "plt.show()"
   ]
  }
 ],
 "metadata": {
  "kernelspec": {
   "display_name": ".venv",
   "language": "python",
   "name": "python3"
  },
  "language_info": {
   "codemirror_mode": {
    "name": "ipython",
    "version": 3
   },
   "file_extension": ".py",
   "mimetype": "text/x-python",
   "name": "python",
   "nbconvert_exporter": "python",
   "pygments_lexer": "ipython3",
   "version": "3.11.10"
  }
 },
 "nbformat": 4,
 "nbformat_minor": 5
}
