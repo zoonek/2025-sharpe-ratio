{
 "cells": [
  {
   "cell_type": "markdown",
   "id": "7f6eeade",
   "metadata": {},
   "source": [
    "# More plots"
   ]
  },
  {
   "cell_type": "code",
   "execution_count": null,
   "id": "bb50d1e4",
   "metadata": {},
   "outputs": [],
   "source": [
    "import numpy as np\n",
    "import matplotlib.pyplot as plt\n",
    "import scipy\n",
    "import statsmodels.stats.multitest\n",
    "from functions import *"
   ]
  },
  {
   "cell_type": "markdown",
   "id": "dbc4efe6",
   "metadata": {},
   "source": [
    "# FDR, false positive rate, beta, power, etc."
   ]
  },
  {
   "cell_type": "code",
   "execution_count": null,
   "id": "7fb47861",
   "metadata": {},
   "outputs": [],
   "source": [
    "xs = np.linspace( -4, 4, 101 )\n",
    "zero = 0 * xs\n",
    "before = xs <= 0\n",
    "after  = xs >= 0\n",
    "y1 = scipy.stats.norm.pdf( xs, -1, 1 )\n",
    "y2 = scipy.stats.norm.pdf( xs, 1, 1 )\n",
    "\n",
    "fig, axs = plt.subplots( 1, 4, figsize = (12,1.8), layout = 'constrained' )\n",
    "axs = axs.flatten()\n",
    "\n",
    "axs[0].fill_between( xs[after], zero[after], y1[after], color = 'grey', alpha = 1 )\n",
    "axs[0].fill_between( xs[after], zero[after], y2[after], color = 'grey', alpha = .3 )\n",
    "axs[0].set_title( \"FDR\" )\n",
    "\n",
    "axs[1].fill_between( xs[after], zero[after], y1[after], color = 'grey', alpha = 1 )\n",
    "axs[1].fill_between( xs, zero, y1, color = 'grey', alpha = .3 )\n",
    "axs[1].set_title( \"False positive rate, alpha\" )\n",
    "\n",
    "axs[2].fill_between( xs[before], zero[before], y2[before], color = 'grey', alpha = 1 )\n",
    "axs[2].fill_between( xs, zero, y2, color = 'grey', alpha = .3 )\n",
    "axs[2].set_title( \"beta\" )\n",
    "\n",
    "axs[3].fill_between( xs[after], zero[after], y2[after], color = 'grey', alpha = 1 )\n",
    "axs[3].fill_between( xs, zero, y2, color = 'grey', alpha = .3 )\n",
    "axs[3].set_title( \"1-beta = power\" )\n",
    "\n",
    "\n",
    "\n",
    "for ax in axs: \n",
    "    ax.plot( xs, y1, linewidth = 3, label = 'H0' )\n",
    "    ax.plot( xs, y2, linewidth = 3, label = 'H1' )\n",
    "    ax.axvline( 0, color = 'black', linestyle = '--' )\n",
    "    for side in ['left', 'right', 'top', 'bottom']:\n",
    "        ax.spines[side].set_visible(False)\n",
    "    ax.set_xticks([])\n",
    "    ax.set_yticks([])\n",
    "axs[0].legend( loc = 'upper left' )\n",
    "plt.show()"
   ]
  },
  {
   "cell_type": "markdown",
   "id": "0536b690",
   "metadata": {},
   "source": [
    "# Classical FDR adjustment"
   ]
  },
  {
   "cell_type": "code",
   "execution_count": null,
   "id": "df2ba834",
   "metadata": {},
   "outputs": [],
   "source": [
    "def test_fdr_benjamini_hochberg():\n",
    "\n",
    "    # Example from the documentation        \n",
    "    ps = [0.0001, 0.0004, 0.0019, 0.0095, 0.0201, 0.0278, 0.0298, 0.0344, 0.0459, 0.3240, 0.4262, 0.5719, 0.6528, 0.7590, 1.000]\n",
    "    q = 0.05\n",
    "\n",
    "    qs = scipy.stats.false_discovery_control(ps)\n",
    "    #rejected, qs = statsmodels.stats.multitest.fdrcorrection(ps, q)  # Gives the same results\n",
    "\n",
    "    i = np.argsort(ps)\n",
    "    j = np.argsort(i)\n",
    "    fig, ax = plt.subplots(figsize = (5,4), layout = 'constrained')\n",
    "    ax.scatter( \n",
    "        np.arange( 1, len(ps)+1 ), ps, \n",
    "        marker = 'o', linestyle = '', \n",
    "        color = [ 'tab:red' if u < q else 'tab:blue' for u in qs ],\n",
    "    )\n",
    "    ax.axline( (0,0), slope = q / len(ps), linestyle = '--', color = 'black' )\n",
    "    ax.set_xlabel( 'p-value rank' )\n",
    "    ax.set_ylabel( 'p-value' )\n",
    "    plt.show()\n",
    "\n",
    "test_fdr_benjamini_hochberg()"
   ]
  },
  {
   "cell_type": "markdown",
   "id": "a43adad2",
   "metadata": {},
   "source": [
    "# Online FDR\n",
    "\n",
    "There are other methods, using the number of rejected nulls, the time since the last rejected null, etc.: see https://dsrobertson.github.io/onlineFDR/articles/theory.html\n",
    "\n",
    "Online FDR assumes streaming data, with P[H1] unknown; the paper assumes a batch of data, with P[H1] known."
   ]
  },
  {
   "cell_type": "code",
   "execution_count": null,
   "id": "3e8cc021",
   "metadata": {},
   "outputs": [],
   "source": [
    "alpha = 0.05\n",
    "C = 0.07720838\n",
    "js = np.arange(1, 101)\n",
    "gammas = C * np.log( np.maximum(js,2) ) / ( js * np.exp( np.sqrt( np.log(js) ) ) )\n",
    "fig, ax = plt.subplots( figsize = (12,3), layout = 'constrained' )\n",
    "ax.plot( js, alpha * gammas, marker = 'o' )\n",
    "ax.set_yscale('log')\n",
    "ax.set_title( \"Online FDR: LOND significance thresholds for alpha = 0.05 (multiply by 1 + the number of rejected nulls so far)\" )\n",
    "ax.set_ylabel( \"Significance threshold\" )\n",
    "ax.set_xlabel( \"Number of tests\" )\n",
    "plt.show()\n",
    " "
   ]
  },
  {
   "cell_type": "markdown",
   "id": "2e56f18f",
   "metadata": {},
   "source": [
    "# Standard deviation of the maximum of $k$ iid standard Gaussians"
   ]
  },
  {
   "cell_type": "code",
   "execution_count": null,
   "id": "6e56bc8d",
   "metadata": {},
   "outputs": [],
   "source": [
    "ks = np.arange(1, 100)\n",
    "s = np.sqrt( [ moments_Mk(k)[2] for k in ks ] )\n",
    "fig, ax = plt.subplots( figsize = (5,4), layout = 'constrained' )\n",
    "ax.plot( ks, s, marker = 'o' )\n",
    "ax.set_title( \"Standard deviation of the maximum of $k$ i.i.d. standard Gaussians\" )\n",
    "ax.set_ylabel( r\"$\\sigma[ \\text{Max}(X_1, \\ldots, X_K) ]$\" )\n",
    "ax.set_xlabel( r\"$K$\" )\n",
    "ax.set_xscale('log')\n",
    "ax.set_ylim( 0, 1.05 )\n",
    "plt.show()"
   ]
  },
  {
   "cell_type": "markdown",
   "id": "bea1c082",
   "metadata": {},
   "source": [
    "# FDR adjustment: critical value\n",
    "\n",
    "Let \n",
    "\\begin{align*}\n",
    "  H &\\sim \\text{Bern}(p_1) \\\\\n",
    "  X_0 &\\sim N( \\mu_0, \\sigma_0^2 ) \\\\\n",
    "  X_1 &\\sim N( \\mu_1, \\sigma_1^2 )\n",
    "\\end{align*}\n",
    "\n",
    "We want to compute \n",
    "\\begin{align*}\n",
    "  \\beta &= P[ X_1 < c ] \\\\\n",
    "  \\alpha &= P[ X_0 > c ] \\\\\n",
    "  q &= P[ H=0 | X_H > c ]\n",
    "\\end{align*}\n",
    "\n",
    "We have\n",
    "\\begin{align*}\n",
    "  \\beta \n",
    "  &= P[ X_1 < c ] \\\\\n",
    "  &= P \\left[ \\dfrac{ X_1 - \\mu_1 }{ \\sigma_1 } < \\dfrac{ c - \\mu_1 }{ \\sigma_1 } \\right] \\\\\n",
    "  &= Z \\left( \\dfrac{ c - \\mu_1 }{ \\sigma_1 } \\right) \\\\[5mm]\n",
    "  \\alpha \n",
    "  &= P[ X_0 > c ] \\\\\n",
    "  &= 1 - P[ X_0 < c ] \\\\\n",
    "  &= 1 - P \\left[ \\dfrac{ X_0 - \\mu_0 }{ \\sigma_0 } < \\dfrac{ c - \\mu_0 }{ \\sigma_0 } \\right] \\\\\n",
    "  &= 1 - Z \\left( \\dfrac{ c - \\mu_0 }{ \\sigma_0 } \\right) \\\\[5mm]\n",
    "  q \n",
    "  &= P[ H=0 | X_H > c ] \\\\\n",
    "  &= \\dfrac{ P[ H=0 \\text{ and } X_H > c ] }{ P[ X_H > c ] } \\\\\n",
    "  &= \\dfrac{ \n",
    "      P[ X_H > c \\mid H = 0 ] P[ H = 0 ] \n",
    "  }{ \n",
    "      P[ X_H > c \\mid H = 0 ] P[ H = 0 ] +\n",
    "      P[ X_H > c \\mid H = 1 ] P[ H = 1 ] \n",
    "  } \\\\\n",
    "  &= \\dfrac{ \n",
    "      P[ X_0 > c ] P[ H = 0 ] \n",
    "  }{ \n",
    "      P[ X_0 > c ] P[ H = 0 ] +\n",
    "      P[ X_1 > c ] P[ H = 1 ] \n",
    "  } \\\\\n",
    "  &= \\dfrac{ \\alpha ( 1 - p_1 ) }{ \\alpha (1-p_1) + (1-\\beta) p_1 } \\\\\n",
    "  &= \\left( 1 + \\dfrac{1-\\beta}{\\alpha} \\dfrac{p_1}{1-p_1}\\right)^{-1}\n",
    "\\end{align*}\n",
    "We finally have $q$ as a function of $c$: \n",
    "$$\n",
    " q = \\left( 1 + \n",
    "\\dfrac{ 1 - Z \\left( \\dfrac{ c - \\mu_1 }{ \\sigma_1 } \\right) }{ 1 - Z \\left( \\dfrac{ c - \\mu_0 }{ \\sigma_0 }  \\right)}\n",
    "\\dfrac{p_1}{1-p_1}\n",
    "\\right)^{-1}\n",
    "$$"
   ]
  },
  {
   "cell_type": "markdown",
   "id": "725cbba7",
   "metadata": {},
   "source": [
    "\n",
    "\\begin{align*}\n",
    "  P[ H=0 | X_H > c ] = \\left( 1 + \n",
    "\\dfrac{ 1 - Z \\left( \\dfrac{ c - \\mu_1 }{ \\sigma_1 } \\right) }{ 1 - Z \\left( \\dfrac{ c - \\mu_0 }{ \\sigma_0 }  \\right)}\n",
    "\\dfrac{p_1}{1-p_1}\n",
    "\\right)^{-1}\n",
    "\\end{align*}"
   ]
  },
  {
   "cell_type": "code",
   "execution_count": null,
   "id": "f19113cb",
   "metadata": {},
   "outputs": [],
   "source": [
    "SR0 = 0\n",
    "SR1 = .2 \n",
    "p_H1 = .30\n",
    "q = .25\n",
    "T = 100\n",
    "gamma3, gamma4 = 0, 3\n",
    "\n",
    "s0 = math.sqrt( sharpe_ratio_variance( SR0, T, gamma3=gamma3, gamma4=gamma4 ) )\n",
    "s1 = math.sqrt( sharpe_ratio_variance( SR1, T, gamma3=gamma3, gamma4=gamma4 ) )\n",
    "\n",
    "def f(c): \n",
    "    return 1/( \n",
    "        1 + \n",
    "        scipy.stats.norm.sf( (c - SR1) / s1 ) / \n",
    "        scipy.stats.norm.sf( (c - SR0) / s0 ) * \n",
    "        p_H1 / (1-p_H1)\n",
    "    )\n",
    "\n",
    "c = np.linspace(-1, 1, 100)\n",
    "fig, ax = plt.subplots(figsize = (5,3), layout = 'constrained')\n",
    "ax.plot(c, f(c), linewidth = 3)\n",
    "ax.set_xlabel('SR_c')\n",
    "ax.set_ylabel('q = P[H0|SR>SR_c]')\n",
    "ax.axhline(q, color = 'black', linestyle = ':', linewidth = 1)\n",
    "ax.set_xlim( -.25, .5 )\n",
    "ax.set_title( \"FDR adjustment: critical value\" )\n",
    "plt.show()"
   ]
  }
 ],
 "metadata": {
  "kernelspec": {
   "display_name": ".venv",
   "language": "python",
   "name": "python3"
  },
  "language_info": {
   "codemirror_mode": {
    "name": "ipython",
    "version": 3
   },
   "file_extension": ".py",
   "mimetype": "text/x-python",
   "name": "python",
   "nbconvert_exporter": "python",
   "pygments_lexer": "ipython3",
   "version": "3.11.10"
  }
 },
 "nbformat": 4,
 "nbformat_minor": 5
}
