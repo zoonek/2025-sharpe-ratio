{
 "cells": [
  {
   "cell_type": "markdown",
   "id": "c509af84",
   "metadata": {},
   "source": [
    "# FDR"
   ]
  },
  {
   "cell_type": "code",
   "execution_count": null,
   "id": "890c0bbb",
   "metadata": {},
   "outputs": [],
   "source": [
    "import numpy as np\n",
    "import pandas as pd\n",
    "import matplotlib.pyplot as plt\n",
    "from tqdm.auto import tqdm\n",
    "from functions import *"
   ]
  },
  {
   "cell_type": "code",
   "execution_count": null,
   "id": "70d0d600",
   "metadata": {},
   "outputs": [],
   "source": [
    "import ray\n",
    "ray.init()"
   ]
  },
  {
   "cell_type": "code",
   "execution_count": null,
   "id": "45c028a0",
   "metadata": {},
   "outputs": [],
   "source": [
    "np.logspace( -7, -2, 6 )"
   ]
  },
  {
   "cell_type": "code",
   "execution_count": null,
   "id": "ef0e15f5",
   "metadata": {},
   "outputs": [],
   "source": [
    "mu     = .036 \n",
    "sigma  = .079\n",
    "T      = 24\n",
    "gamma3 = -2.448\n",
    "gamma4 = 10.164\n",
    "SR0    = 0\n",
    "SR1    = .5\n",
    "p_H1   = .05\n",
    "alpha  = .05\n",
    "q      = .25\n",
    "\n",
    "number_of_trials = 10\n",
    "variance = .1\n",
    "SR0_adj = expected_maximum_sharpe_ratio( number_of_trials, variance )\n",
    "\n",
    "xs = np.unique( sorted( np.hstack( [\n",
    "    # More points close to zero, to show the vertical asymptote\n",
    "    np.logspace( -12, -2, 11 ),\n",
    "    np.linspace( 0, .01, 11 ),\n",
    "    np.linspace( 0, 1, 101 ),\n",
    "] ) ) )[1:]\n",
    "\n",
    "@ray.remote\n",
    "def control_for_FDR_ray( q, SR0, SR1, p_H1, T, gamma3, gamma4 ):\n",
    "    return control_for_FDR( q = q, SR0 = SR0, SR1 = SR1, p_H1 = p_H1, T = T, gamma3 = gamma3, gamma4 = gamma4 )\n",
    "\n",
    "ys = [ \n",
    "    control_for_FDR_ray.remote( q = q, SR0 = SR0, SR1 = SR1, p_H1 = p_H1, T = T, gamma3 = gamma3, gamma4 = gamma4 )\n",
    "    for p_H1 in xs\n",
    "]\n",
    "ys = [ ray.get( y ) for y in tqdm(ys) ]\n",
    "ys = pd.DataFrame( np.array( ys ), index = xs, columns = ['alpha', 'beta', 'SR_c'] )\n",
    "\n",
    "ys2 = [ \n",
    "    control_for_FDR_ray.remote( q = q, SR0 = SR0_adj, SR1 = SR1 + SR0_adj, p_H1 = p_H1, T = T, gamma3 = gamma3, gamma4 = gamma4 )\n",
    "    for p_H1 in xs\n",
    "]\n",
    "ys2 = [ ray.get( y ) for y in tqdm(ys2) ]\n",
    "ys2 = pd.DataFrame( np.array( ys2 ), index = xs, columns = ['alpha', 'beta', 'SR_c'] )\n"
   ]
  },
  {
   "cell_type": "code",
   "execution_count": null,
   "id": "e24c1542",
   "metadata": {},
   "outputs": [],
   "source": [
    "fig, axs = plt.subplots( 1, 3, figsize = (9,2.5), layout = 'constrained' )\n",
    "axs[0].plot( ys.index, ys['alpha'], label = 'alpha' )\n",
    "axs[1].plot( ys.index, ys['beta'], label = 'beta' )\n",
    "axs[2].plot( ys.index, ys['SR_c'], label = 'SR_c' )\n",
    "axs[2].plot( ys2.index, ys2['SR_c'], label = 'SR_c_adj' )\n",
    "axs[0].set_ylabel( \"alpha\" )\n",
    "axs[1].set_ylabel( \"beta\" )\n",
    "axs[2].set_ylabel( \"SR_c\" )\n",
    "axs[2].set_ylim( -.5, 1.6 )\n",
    "for ax in axs: \n",
    "    ax.set_xlabel( \"p[H1]\" )\n",
    "    ax.axhline( 0, color = 'black', linestyle = ':', linewidth = 1 )\n",
    "    ax.set_xlim(0, 1)\n",
    "    ax.axvline( 1-q, color = 'black', linestyle = '--', linewidth = 1 )\n",
    "fig.suptitle( \n",
    "    f\"SR0 = {SR0}, SR1 = {SR1}, q = {q}\"\n",
    "    \"\\n\"\n",
    "    f\"SR0_adj = {SR0_adj:.3f}, SR1_adj = {SR1 + SR0_adj:.3f}\"\n",
    ")\n",
    "plt.show()"
   ]
  },
  {
   "cell_type": "code",
   "execution_count": null,
   "id": "39a35a1f",
   "metadata": {},
   "outputs": [],
   "source": [
    "fig, ax = plt.subplots( figsize = (5,3.5), layout = 'constrained', dpi = 300)\n",
    "ax.plot( ys.index, ys['SR_c'],   linewidth = 3, label = f\"SR0 = {SR0}, SR1 = {SR1}\" )\n",
    "ax.plot( ys2.index, ys2['SR_c'], linewidth = 3, label = f\"SR0 = {SR0_adj:.3f}, SR1 = {SR1 + SR0_adj:.3f}\" )\n",
    "ax.set_ylabel( \"SR_c\" )\n",
    "ax.set_xlabel( \"p[H1]\" )\n",
    "ax.axhline( 0, color = 'black', linestyle = ':', linewidth = 1 )\n",
    "ax.set_xlim(0, 1)\n",
    "ax.set_title( f\"SR_c vs P[H1] (q={q})\" )\n",
    "ax.legend()\n",
    "ax.axvline( 1-q, color = 'black', linestyle = '--', linewidth = 1 )\n",
    "ax.set_ylim( -.5, 1.6 )\n",
    "plt.show()"
   ]
  }
 ],
 "metadata": {
  "kernelspec": {
   "display_name": "2025-sharpe-ratio",
   "language": "python",
   "name": "python3"
  },
  "language_info": {
   "codemirror_mode": {
    "name": "ipython",
    "version": 3
   },
   "file_extension": ".py",
   "mimetype": "text/x-python",
   "name": "python",
   "nbconvert_exporter": "python",
   "pygments_lexer": "ipython3",
   "version": "3.11.10"
  }
 },
 "nbformat": 4,
 "nbformat_minor": 5
}
