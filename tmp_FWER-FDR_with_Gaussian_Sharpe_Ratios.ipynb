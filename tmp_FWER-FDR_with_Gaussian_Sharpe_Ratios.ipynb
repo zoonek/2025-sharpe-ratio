{
 "cells": [
  {
   "cell_type": "code",
   "execution_count": null,
   "id": "331401d1",
   "metadata": {},
   "outputs": [],
   "source": [
    "import warnings\n",
    "from functions import *\n",
    "from tqdm.auto import tqdm\n",
    "import ray"
   ]
  },
  {
   "cell_type": "code",
   "execution_count": null,
   "id": "ce3528d5",
   "metadata": {},
   "outputs": [],
   "source": [
    "ray.init()"
   ]
  },
  {
   "cell_type": "code",
   "execution_count": null,
   "id": "5dc9ab6d",
   "metadata": {},
   "outputs": [],
   "source": [
    "T      = 100\n",
    "#gamma3, gamma4 = -2.448, 10.164\n",
    "gamma3, gamma4 = 0, 3\n",
    "K = 10\n",
    "N = 10_000\n",
    "SR0 = 0\n",
    "SR1 = .2\n",
    "p_H1 = .30  # Should be sufficiently high, otherwise SR_c will be very high -- if H1 is rare/exceptional, we need very strong evidence to reject H0\n",
    "q = .25\n",
    "\n",
    "s0 = math.sqrt( sharpe_ratio_variance( SR0, T, gamma3=gamma3, gamma4=gamma4 ) )\n",
    "s1 = math.sqrt( sharpe_ratio_variance( SR1, T, gamma3=gamma3, gamma4=gamma4 ) )\n",
    "\n",
    "SR = SR0\n",
    "V = sharpe_ratio_variance( SR, T, gamma3 = gamma3, gamma4 = gamma4 )\n",
    "SRs = np.random.normal( SR, math.sqrt(V), (K, N) )\n",
    "max_SR0s = SRs.max(axis=0)\n",
    "SR0_adj = expected_maximum_sharpe_ratio( K, SRs.var(axis=0) )\n",
    "\n",
    "SR = SR1\n",
    "V = sharpe_ratio_variance( SR, T, gamma3 = gamma3, gamma4 = gamma4 )\n",
    "SRs = np.random.normal( SR, math.sqrt(V), (K, N) )\n",
    "max_SR1s = SRs.max(axis=0)\n",
    "SR1_adj = expected_maximum_sharpe_ratio( K, SRs.var(axis=0) )\n",
    "\n",
    "H1 = np.random.uniform(size=N) < p_H1\n",
    "H0 = ~ H1\n",
    "max_SRs = np.where( H1, max_SR1s, max_SR0s )\n",
    "SR_adj = np.where( H1, SR1_adj, SR0_adj )"
   ]
  },
  {
   "cell_type": "code",
   "execution_count": null,
   "id": "ac452caf",
   "metadata": {},
   "outputs": [],
   "source": [
    "SR_c_FDR = control_for_FDR( q, SR0 = SR0, SR1 = SR1, p_H1 = p_H1, T = T, gamma3 = gamma3, gamma4 = gamma4, K = K )[2]\n",
    "\n",
    "@ray.remote\n",
    "def f(u):\n",
    "    return control_for_FDR( q, SR0 = SR0 + u, SR1 = SR1 + u, p_H1 = p_H1, T = T, gamma3 = gamma3, gamma4 = gamma4, K=K, grid_size = 100 )\n",
    "SR_c_FWER_FDR = [ f.remote(u) for u in SR_adj ]\n",
    "SR_c_FWER_FDR = [ ray.get(u) for u in tqdm(SR_c_FWER_FDR) ]\n",
    "SR_c_FWER_FDR = np.array(SR_c_FWER_FDR)"
   ]
  },
  {
   "cell_type": "code",
   "execution_count": null,
   "id": "fc67ab0f",
   "metadata": {},
   "outputs": [],
   "source": [
    "tmp = pd.DataFrame( SR_c_FWER_FDR, columns = ['alpha', 'beta', 'SR_c', 'q_hat'] )\n",
    "SR_c_FWER_FDR = tmp['SR_c'].values"
   ]
  },
  {
   "cell_type": "code",
   "execution_count": null,
   "id": "eb1669ab",
   "metadata": {},
   "outputs": [],
   "source": [
    "fig, ax = plt.subplots( figsize = (5,3), layout = 'constrained', dpi = 300 )\n",
    "ax.hist( max_SRs[H0], bins = 20, density = False, alpha = .4, label = 'H0' )\n",
    "ax.hist( max_SRs[H1], bins = 20, density = False, alpha = .4, label = 'H1' )\n",
    "ax.axvline( SR_c_FDR,             color = 'black', linestyle = '--' )\n",
    "ax.axvline( SR_c_FWER_FDR.mean(), color = 'black', linestyle = '--' )\n",
    "ax.axvline( (SR0+SR_adj[H0]).mean(), color = 'white', linestyle = ':', linewidth = 1)\n",
    "ax.axvline( (SR1+SR_adj[H1]).mean(), color = 'white', linestyle = ':', linewidth = 1)\n",
    "ax.set_xlabel('Sharpe ratio' )\n",
    "for side in ['left', 'right', 'top']:\n",
    "    ax.spines[side].set_visible(False)\n",
    "ax.set_yticks([])\n",
    "ax.legend()\n",
    "plt.show()"
   ]
  },
  {
   "cell_type": "code",
   "execution_count": null,
   "id": "b57eeda3",
   "metadata": {},
   "outputs": [],
   "source": [
    "data = pd.DataFrame( { \n",
    "    'SR_c (FDR)':      np.ones(shape=N) * SR_c_FDR,\n",
    "    'SR_c (FWER-FDR)': SR_c_FWER_FDR,\n",
    "    'SR': max_SRs,\n",
    "    'P_FDR':      max_SRs > SR_c_FDR,\n",
    "    'P_FWER_FDR': max_SRs > SR_c_FWER_FDR,\n",
    "    'H0': H0,\n",
    "    'H1': H1,\n",
    "} )\n",
    "\n",
    "fig, axs = plt.subplots(1, 2, figsize = (8, 4), layout = 'constrained', dpi = 300 )\n",
    "for x_label, y_label, ax in zip(\n",
    "    ['SR_c (FDR)',  'SR_c (FWER-FDR)'],\n",
    "    ['SR',          'SR' ],\n",
    "    axs,\n",
    "): \n",
    "    ax.scatter( data[y_label].max(), data[y_label].max(), alpha = 0 )  # To set xlim, ylim\n",
    "    ax.scatter( data[x_label][H0],  data[y_label][H0],  color = 'tab:blue',   alpha = 1, label = 'H0' )\n",
    "    ax.scatter( data[x_label][~H0], data[y_label][~H0], color = 'tab:orange', alpha = 1, label = 'H1' )\n",
    "    ax.scatter( data[x_label], data[y_label], color = [ 'tab:orange' if h else 'tab:blue' for h in H1 ], alpha = .1 )\n",
    "    ax.set_xlabel(x_label)\n",
    "    ax.set_ylabel(y_label)\n",
    "    ax.axline( (0,0), slope = 1, color = 'black', linestyle = ':', linewidth = 1 )\n",
    "\n",
    "    #ax.axhline( SR0, color = 'black', linestyle = ':', linewidth = 1 )\n",
    "    #ax.axhline( SR1, color = 'black', linestyle = ':', linewidth = 1 )\n",
    "\n",
    "    #ax.axhline( SR0 + res['SR0_adj'].mean(), color = 'black', linestyle = ':', linewidth = 1 )\n",
    "    #ax.axhline( SR1 + res['SR0_adj'].mean(), color = 'black', linestyle = ':', linewidth = 1 )\n",
    "\n",
    "axs[0].set_title( f\"FDR = {100*np.sum( H0 & data['P_FDR'] ) / np.sum( data['P_FDR'] ):.1f}%\")    \n",
    "axs[1].set_title( f\"FDR = {100*np.sum( H0 & data['P_FWER_FDR'] ) / np.sum( data['P_FWER_FDR'] ):.1f}%\")\n",
    "\n",
    "axs[0].legend(loc='lower right')\n",
    "plt.show()"
   ]
  }
 ],
 "metadata": {
  "kernelspec": {
   "display_name": ".venv",
   "language": "python",
   "name": "python3"
  },
  "language_info": {
   "codemirror_mode": {
    "name": "ipython",
    "version": 3
   },
   "file_extension": ".py",
   "mimetype": "text/x-python",
   "name": "python",
   "nbconvert_exporter": "python",
   "pygments_lexer": "ipython3",
   "version": "3.11.10"
  }
 },
 "nbformat": 4,
 "nbformat_minor": 5
}
