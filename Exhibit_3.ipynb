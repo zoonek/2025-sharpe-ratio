{
 "cells": [
  {
   "cell_type": "markdown",
   "id": "98476af6",
   "metadata": {},
   "source": [
    "# Family-wise error rate (FWER): DSR, Bonferroni, Sidak, Holm"
   ]
  },
  {
   "cell_type": "code",
   "execution_count": null,
   "id": "937fdcf0",
   "metadata": {},
   "outputs": [],
   "source": [
    "import numpy as np\n",
    "import pandas as pd\n",
    "import matplotlib.pyplot as plt\n",
    "import seaborn as sns\n",
    "from tqdm.auto import tqdm\n",
    "from functions import *"
   ]
  },
  {
   "cell_type": "code",
   "execution_count": null,
   "id": "cfa30907",
   "metadata": {},
   "outputs": [],
   "source": [
    "FAST = True  # Set to False to have smoother / more stable plots"
   ]
  },
  {
   "cell_type": "code",
   "execution_count": null,
   "id": "2ba5012b",
   "metadata": {},
   "outputs": [],
   "source": [
    "import ray\n",
    "ray.init()"
   ]
  },
  {
   "cell_type": "code",
   "execution_count": null,
   "id": "89903182",
   "metadata": {},
   "outputs": [],
   "source": [
    "columns = ['1 - DSR', 'min p', 'p (Bonferroni)', 'p (Sidak)', 'p (Holm)']\n",
    "\n",
    "T = 24\n",
    "n_trials = 10\n",
    "\n",
    "@ray.remote\n",
    "def f( name, *, T = 24, n_trials = 10, SR = 0, N = 1000 if FAST else 10_000 ): \n",
    "    results = []\n",
    "    for _ in range(N):\n",
    "        X = generate_non_gaussian_data( T, n_trials, SR0=SR, name = name )\n",
    "        r = deflated_sharpe_ratio( X, cluster = False, details = True )\n",
    "        r['name'] = name\n",
    "        r['T'] = T\n",
    "        r['n_trials'] = n_trials\n",
    "        r['SR'] = SR\n",
    "        results.append(r)\n",
    "    return pd.DataFrame( results )\n",
    "\n",
    "all_results = { \n",
    "    (name, SR): f.remote( name, SR = SR, T = T, n_trials = n_trials)\n",
    "    for name in ['gaussian', 'mild', 'moderate', 'severe']\n",
    "    for SR in np.linspace( 0, 1, 21 )\n",
    "}\n",
    "all_results = { k: ray.get(v) for k,v in tqdm( all_results.items() )}"
   ]
  },
  {
   "cell_type": "code",
   "execution_count": null,
   "id": "3d0ae18f",
   "metadata": {},
   "outputs": [],
   "source": [
    "for name in ['gaussian', 'mild', 'moderate', 'severe']:\n",
    "    SR = 0\n",
    "    results = all_results[name, SR]\n",
    "    fig, axs = plt.subplots( 1, 5, figsize = (10,2.5), layout = 'constrained' )\n",
    "    for ax, column in zip( axs, columns ):\n",
    "        ax.hist( results[column], density = 'True', bins = 20, color = 'lightblue' )\n",
    "        ax.set_ylim( 0, 5 )\n",
    "        ax.set_yticks( [] )\n",
    "        ax.set_xlim( 0, 1 )\n",
    "        ax.set_title( column + \"\\n\" + f\"P[ p < .05 ] = {np.mean( results[column] < .05 ):.2f}\" )\n",
    "        ax.set_xlabel( \"p-value\" )\n",
    "        for side in ['left', 'right', 'top']:\n",
    "            ax.spines[side].set_visible(False)\n",
    "    fig.suptitle( f\"Distribution of p-values, distribution = {name}, T = {T}, n_trials = {n_trials}, SR = {SR}\" )\n",
    "    plt.show()"
   ]
  }
 ],
 "metadata": {
  "kernelspec": {
   "display_name": "2025-sharpe-ratio",
   "language": "python",
   "name": "python3"
  },
  "language_info": {
   "codemirror_mode": {
    "name": "ipython",
    "version": 3
   },
   "file_extension": ".py",
   "mimetype": "text/x-python",
   "name": "python",
   "nbconvert_exporter": "python",
   "pygments_lexer": "ipython3",
   "version": "3.11.10"
  }
 },
 "nbformat": 4,
 "nbformat_minor": 5
}
