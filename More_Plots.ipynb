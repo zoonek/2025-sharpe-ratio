{
 "cells": [
  {
   "cell_type": "markdown",
   "id": "7f6eeade",
   "metadata": {},
   "source": [
    "# More plots"
   ]
  },
  {
   "cell_type": "code",
   "execution_count": null,
   "id": "bb50d1e4",
   "metadata": {},
   "outputs": [],
   "source": [
    "import numpy as np\n",
    "import matplotlib.pyplot as plt\n",
    "import scipy\n",
    "import statsmodels.stats.multitest\n",
    "\n",
    "xs = np.linspace( -4, 4, 101 )\n",
    "zero = 0 * xs\n",
    "before = xs <= 0\n",
    "after  = xs >= 0\n",
    "y1 = scipy.stats.norm.pdf( xs, -1, 1 )\n",
    "y2 = scipy.stats.norm.pdf( xs, 1, 1 )\n",
    "\n",
    "fig, axs = plt.subplots( 1, 4, figsize = (12,1.8), layout = 'constrained' )\n",
    "axs = axs.flatten()\n",
    "\n",
    "axs[0].fill_between( xs[after], zero[after], y1[after], color = 'grey', alpha = 1 )\n",
    "axs[0].fill_between( xs[after], zero[after], y2[after], color = 'grey', alpha = .3 )\n",
    "axs[0].set_title( \"FDR\" )\n",
    "\n",
    "axs[1].fill_between( xs[after], zero[after], y1[after], color = 'grey', alpha = 1 )\n",
    "axs[1].fill_between( xs, zero, y1, color = 'grey', alpha = .3 )\n",
    "axs[1].set_title( \"False positive rate, alpha\" )\n",
    "\n",
    "axs[2].fill_between( xs[before], zero[before], y2[before], color = 'grey', alpha = 1 )\n",
    "axs[2].fill_between( xs, zero, y2, color = 'grey', alpha = .3 )\n",
    "axs[2].set_title( \"beta\" )\n",
    "\n",
    "axs[3].fill_between( xs[after], zero[after], y2[after], color = 'grey', alpha = 1 )\n",
    "axs[3].fill_between( xs, zero, y2, color = 'grey', alpha = .3 )\n",
    "axs[3].set_title( \"1-beta = power\" )\n",
    "\n",
    "\n",
    "\n",
    "for ax in axs: \n",
    "    ax.plot( xs, y1, linewidth = 3, label = 'H0' )\n",
    "    ax.plot( xs, y2, linewidth = 3, label = 'H1' )\n",
    "    ax.axvline( 0, color = 'black', linestyle = '--' )\n",
    "    for side in ['left', 'right', 'top', 'bottom']:\n",
    "        ax.spines[side].set_visible(False)\n",
    "    ax.set_xticks([])\n",
    "    ax.set_yticks([])\n",
    "axs[0].legend( loc = 'upper left' )\n",
    "plt.show()"
   ]
  },
  {
   "cell_type": "code",
   "execution_count": null,
   "id": "df2ba834",
   "metadata": {},
   "outputs": [],
   "source": [
    "def test_fdr_benjamini_hochberg():\n",
    "\n",
    "    # Example from the documentation        \n",
    "    ps = [0.0001, 0.0004, 0.0019, 0.0095, 0.0201, 0.0278, 0.0298, 0.0344, 0.0459, 0.3240, 0.4262, 0.5719, 0.6528, 0.7590, 1.000]\n",
    "    q = 0.05\n",
    "\n",
    "    qs = scipy.stats.false_discovery_control(ps)\n",
    "    #rejected, qs = statsmodels.stats.multitest.fdrcorrection(ps, q)  # Gives the same results\n",
    "\n",
    "    i = np.argsort(ps)\n",
    "    j = np.argsort(i)\n",
    "    fig, ax = plt.subplots(figsize = (5,4), layout = 'constrained')\n",
    "    ax.scatter( \n",
    "        np.arange( 1, len(ps)+1 ), ps, \n",
    "        marker = 'o', linestyle = '', \n",
    "        color = [ 'tab:red' if u < q else 'tab:blue' for u in qs ],\n",
    "    )\n",
    "    ax.axline( (0,0), slope = q / len(ps), linestyle = '--', color = 'black' )\n",
    "    ax.set_xlabel( 'p-value rank' )\n",
    "    ax.set_ylabel( 'p-value' )\n",
    "    plt.show()\n",
    "\n",
    "test_fdr_benjamini_hochberg()"
   ]
  },
  {
   "cell_type": "code",
   "execution_count": null,
   "id": "3e8cc021",
   "metadata": {},
   "outputs": [],
   "source": [
    "# Online FDR\n",
    "# https://dsrobertson.github.io/onlineFDR/articles/theory.html\n",
    "# There are other methods, using the number of rejected nulls, the time since the last rejected null, etc.\n",
    "\n",
    "# Online FDR assumes streaming data, with P[H1] unknown; the paper assumes a batch of data, with P[H1] known.\n",
    "\n",
    "alpha = 0.05\n",
    "C = 0.07720838\n",
    "js = np.arange(1, 101)\n",
    "gammas = C * np.log( np.maximum(js,2) ) / ( js * np.exp( np.sqrt( np.log(js) ) ) )\n",
    "fig, ax = plt.subplots( figsize = (12,3), layout = 'constrained' )\n",
    "ax.plot( js, alpha * gammas, marker = 'o' )\n",
    "ax.set_yscale('log')\n",
    "ax.set_title( \"Online FDR: LOND significance thresholds for alpha = 0.05 (multiply by 1 + the number of rejected nulls so far)\" )\n",
    "ax.set_ylabel( \"Significance threshold\" )\n",
    "ax.set_xlabel( \"Number of tests\" )\n",
    "plt.show()\n",
    " "
   ]
  }
 ],
 "metadata": {
  "kernelspec": {
   "display_name": ".venv",
   "language": "python",
   "name": "python3"
  },
  "language_info": {
   "codemirror_mode": {
    "name": "ipython",
    "version": 3
   },
   "file_extension": ".py",
   "mimetype": "text/x-python",
   "name": "python",
   "nbconvert_exporter": "python",
   "pygments_lexer": "ipython3",
   "version": "3.11.10"
  }
 },
 "nbformat": 4,
 "nbformat_minor": 5
}
