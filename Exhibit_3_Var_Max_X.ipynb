{
 "cells": [
  {
   "cell_type": "code",
   "execution_count": null,
   "id": "a8b225bc",
   "metadata": {},
   "outputs": [],
   "source": [
    "import numpy as np\n",
    "import pandas as pd\n",
    "import matplotlib.pyplot as plt\n",
    "from functions import moments_Mk"
   ]
  },
  {
   "cell_type": "code",
   "execution_count": null,
   "id": "ffe5ebc0",
   "metadata": {},
   "outputs": [],
   "source": [
    "ks = np.arange(1,101)\n",
    "variances = [ moments_Mk(k)[2] for k in ks ]\n",
    "\n",
    "fig, ax = plt.subplots( figsize = (5,3.5), dpi = 300, layout = 'constrained' )\n",
    "ax.scatter(ks, variances)\n",
    "ax.set_ylim(0,1.04)\n",
    "ax.set_xlim(0,100)\n",
    "ax.set_ylabel('Variance of the maximum\\nof k iid standard Gaussians')\n",
    "ax.set_xlabel('k')\n",
    "plt.show()"
   ]
  },
  {
   "cell_type": "code",
   "execution_count": null,
   "id": "84bf8436",
   "metadata": {},
   "outputs": [],
   "source": [
    "fig, ax = plt.subplots( figsize = (5,3.5), dpi = 100, layout = 'constrained' )\n",
    "ax.scatter(ks, np.sqrt(variances))\n",
    "#ax.set_yscale('log')\n",
    "ax.set_xscale('log')\n",
    "ax.set_ylim(0,1.04)\n",
    "#ax.set_xlim(0,100)\n",
    "ax.set_ylabel('Standard deviation of the maximum\\nof k iid standard Gaussians')\n",
    "ax.set_xlabel('k')\n",
    "ax.set_xticks( \n",
    "  [1,2,3,4,5,10,20,30,40,50,100],\n",
    "  [1,2,3,4,5,10,20,30,40,50,100],\n",
    ")\n",
    "ax.set_xticks([1,10,100], [1,10,100])\n",
    "#ax.set_xticks( \n",
    "#  [2,3,4,5,6,7,8,9,     20,30,40,50,60,70,80,90], \n",
    "#  [2,3,4,5,'','','','', 20,30,40,50,'','','',''],\n",
    "#  minor = True, fontsize = 8,\n",
    "#   )\n",
    "plt.show()"
   ]
  },
  {
   "cell_type": "code",
   "execution_count": null,
   "id": "eae15646",
   "metadata": {},
   "outputs": [],
   "source": [
    "pd.DataFrame( {\n",
    "    'k': ks,\n",
    "    'variance': variances,\n",
    "    'std': np.sqrt(variances),\n",
    "}).to_csv('/tmp/variances.csv', index = False)"
   ]
  }
 ],
 "metadata": {
  "kernelspec": {
   "display_name": ".venv",
   "language": "python",
   "name": "python3"
  },
  "language_info": {
   "codemirror_mode": {
    "name": "ipython",
    "version": 3
   },
   "file_extension": ".py",
   "mimetype": "text/x-python",
   "name": "python",
   "nbconvert_exporter": "python",
   "pygments_lexer": "ipython3",
   "version": "3.11.10"
  }
 },
 "nbformat": 4,
 "nbformat_minor": 5
}
