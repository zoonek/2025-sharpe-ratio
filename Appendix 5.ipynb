{
 "cells": [
  {
   "cell_type": "markdown",
   "id": "789f4fc7",
   "metadata": {},
   "source": [
    "\n",
    "# FDR-Consistent Sharpe Ratio Cutoff\n",
    "\n",
    "This notebook reproduces the FDR-based cutoff \\(SR_c\\) as a function of \\(P(H_1)\\)"
   ]
  },
  {
   "cell_type": "code",
   "execution_count": null,
   "id": "f73005b9",
   "metadata": {},
   "outputs": [],
   "source": [
    "\n",
    "import numpy as np\n",
    "import pandas as pd\n",
    "import matplotlib.pyplot as plt\n",
    "from scipy.stats import norm\n",
    "from scipy.optimize import root_scalar\n"
   ]
  },
  {
   "cell_type": "markdown",
   "id": "6bca4d7b",
   "metadata": {},
   "source": [
    "\n",
    "## Parameters (edit as needed)\n"
   ]
  },
  {
   "cell_type": "code",
   "execution_count": null,
   "id": "a33d9caf",
   "metadata": {},
   "outputs": [],
   "source": [
    "\n",
    "# Core parameters (matching the exercise)\n",
    "q = 0.1\n",
    "SR0 = 0.0\n",
    "SR1 = 0.5\n",
    "sigma0 = 0.204\n",
    "sigma1 = 0.341\n",
    "\n",
    "# Sweep range for P(H1)\n",
    "P1_vals = np.linspace(0.01, 0.25, 50)\n"
   ]
  },
  {
   "cell_type": "markdown",
   "id": "57805625",
   "metadata": {},
   "source": [
    "\n",
    "## Solver (SciPy root on a safe bracket)\n",
    "\n",
    "We solve $f(x)=0$ where\n",
    "$$\n",
    "f(x) \\equiv \\alpha(x) - K\\,\\pi(x),\\quad K = \\frac{q\\,P(H_1)}{(1-q)\\,P(H_0)}\\,.\n",
    "$$\n",
    "\n",
    "To avoid numerical underflow at extreme tails, we bracket the root inside a finite, safe interval and expand slightly only if needed. If the solution gives a flat line, try tightening the bracket.\n"
   ]
  },
  {
   "cell_type": "code",
   "execution_count": null,
   "id": "4cb740a0",
   "metadata": {},
   "outputs": [],
   "source": [
    "\n",
    "def solve_sr_cutoff(P1, q=0.25, SR0=0.0, SR1=0.5, sigma0=0.5, sigma1=0.5,\n",
    "                    bracket=(0.0, 3.0), max_expand=6):\n",
    "    P0 = 1.0 - P1\n",
    "    if not (0.0 < P1 < 1.0):\n",
    "        raise ValueError(\"P1 must be in (0,1).\")\n",
    "    K = q * P1 / ((1.0 - q) * P0)\n",
    "\n",
    "    def f(x):\n",
    "        alpha = 1.0 - norm.cdf((x - SR0) / sigma0)\n",
    "        power = 1.0 - norm.cdf((x - SR1) / sigma1)\n",
    "        return alpha - K * power\n",
    "\n",
    "    a, b = bracket\n",
    "    fa, fb = f(a), f(b)\n",
    "    k = 0\n",
    "    while fa * fb > 0 and k < max_expand:\n",
    "        a = max(-1.0, a - 1.0)   # mild expansion down\n",
    "        b = b + 1.0              # mild expansion up\n",
    "        fa, fb = f(a), f(b)\n",
    "        k += 1\n",
    "\n",
    "    sol = root_scalar(f, bracket=[a, b], method=\"brentq\")\n",
    "    x = sol.root\n",
    "    alpha_star = 1.0 - norm.cdf((x - SR0) / sigma0)\n",
    "    return float(x), float(alpha_star)\n"
   ]
  },
  {
   "cell_type": "markdown",
   "id": "7d0060d2",
   "metadata": {},
   "source": [
    "\n",
    "## Compute and plot \\(SR_c\\) vs \\(P(H_1)\\)\n"
   ]
  },
  {
   "cell_type": "code",
   "execution_count": null,
   "id": "de1fb498",
   "metadata": {},
   "outputs": [],
   "source": [
    "\n",
    "rows = []\n",
    "for P1 in P1_vals:\n",
    "    SR_c, alpha_star = solve_sr_cutoff(P1, q=q, SR0=SR0, SR1=SR1, sigma0=sigma0, sigma1=sigma1)\n",
    "    rows.append({\"P[H1]\": P1, \"SR_c\": SR_c, \"alpha*\": alpha_star})\n",
    "df = pd.DataFrame(rows)\n",
    "\n",
    "plt.figure(figsize=(6,4))\n",
    "plt.plot(df[\"P[H1]\"]*100, df[\"SR_c\"], marker='o')\n",
    "plt.xlabel(\"P[H1] (%)\")\n",
    "plt.ylabel(\"SR_c threshold (non-annualized)\")\n",
    "plt.title(f\"SR_c vs P[H1] (q={int(q*100)}%)\")\n",
    "plt.grid(True)\n",
    "plt.savefig('SR_c.png',dpi=300)\n",
    "\n",
    "df.to_csv(\"appendix_5.csv\")\n",
    "df.head(10)"
   ]
  }
 ],
 "metadata": {
  "kernelspec": {
   "display_name": "vincent.zoonekynd-2025-sharpe-ratio",
   "language": "python",
   "name": "python3"
  },
  "language_info": {
   "codemirror_mode": {
    "name": "ipython",
    "version": 3
   },
   "file_extension": ".py",
   "mimetype": "text/x-python",
   "name": "python",
   "nbconvert_exporter": "python",
   "pygments_lexer": "ipython3",
   "version": "3.11.10"
  }
 },
 "nbformat": 4,
 "nbformat_minor": 5
}
